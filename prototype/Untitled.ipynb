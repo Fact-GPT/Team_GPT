{
 "cells": [
  {
   "cell_type": "code",
   "execution_count": 64,
   "id": "f0c952a6",
   "metadata": {},
   "outputs": [],
   "source": [
    "responses = \"[('Bill Gates is totally responsible for egg shortage', ['Did Bill Gates cause the egg shortage?', 'Bill Gates and artificial eggs investment', 'Artificial eggs and egg shortage']), (\\'Donald Trump denies Covid-19 ever existed\\', [\\'Donald Trump claims Covid-19 is a hoax\\', \\'Did Trump deny the existence of Covid-19?\\', \\'Trump administration and Covid-19 denial\\'])]\""
   ]
  },
  {
   "cell_type": "code",
   "execution_count": 65,
   "id": "428d8dc6",
   "metadata": {},
   "outputs": [],
   "source": [
    "import ast\n",
    "claims_with_queries = ast.literal_eval(responses)"
   ]
  },
  {
   "cell_type": "code",
   "execution_count": 66,
   "id": "32325b66",
   "metadata": {},
   "outputs": [
    {
     "data": {
      "text/plain": [
       "[('Bill Gates is totally responsible for egg shortage',\n",
       "  ['Did Bill Gates cause the egg shortage?',\n",
       "   'Bill Gates and artificial eggs investment',\n",
       "   'Artificial eggs and egg shortage']),\n",
       " ('Donald Trump denies Covid-19 ever existed',\n",
       "  ['Donald Trump claims Covid-19 is a hoax',\n",
       "   'Did Trump deny the existence of Covid-19?',\n",
       "   'Trump administration and Covid-19 denial'])]"
      ]
     },
     "execution_count": 66,
     "metadata": {},
     "output_type": "execute_result"
    }
   ],
   "source": [
    "claims_with_queries"
   ]
  },
  {
   "cell_type": "code",
   "execution_count": null,
   "id": "d99c84a9",
   "metadata": {},
   "outputs": [],
   "source": []
  }
 ],
 "metadata": {
  "kernelspec": {
   "display_name": "Python 3 (ipykernel)",
   "language": "python",
   "name": "python3"
  },
  "language_info": {
   "codemirror_mode": {
    "name": "ipython",
    "version": 3
   },
   "file_extension": ".py",
   "mimetype": "text/x-python",
   "name": "python",
   "nbconvert_exporter": "python",
   "pygments_lexer": "ipython3",
   "version": "3.9.12"
  }
 },
 "nbformat": 4,
 "nbformat_minor": 5
}
